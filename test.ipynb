{
 "cells": [
  {
   "cell_type": "code",
   "execution_count": 19,
   "metadata": {},
   "outputs": [],
   "source": [
    "#Import library\n",
    "import pandas as pd\n",
    "import gurobipy as gp \n",
    "from gurobipy import GRB\n",
    "import logging"
   ]
  },
  {
   "cell_type": "code",
   "execution_count": 2,
   "metadata": {},
   "outputs": [],
   "source": [
    "# Parameters\n",
    "\n",
    "years = [1, 2, 3]\n",
    "skills = ['s1', 's2', 's3']\n",
    "\n",
    "curr_workforce = {'s1': 2000, 's2': 1500, 's3': 1000}\n",
    "demand = {\n",
    "    (1, 's1'): 1000,\n",
    "    (1, 's2'): 1400,\n",
    "    (1, 's3'): 1000,\n",
    "    (2, 's1'): 500,\n",
    "    (2, 's2'): 2000,\n",
    "    (2, 's3'): 1500,\n",
    "    (3, 's1'): 0,\n",
    "    (3, 's2'): 2500,\n",
    "    (3, 's3'): 2000\n",
    "}\n",
    "rookie_attrition = {'s1': 0.25, 's2': 0.20, 's3': 0.10}\n",
    "veteran_attrition = {'s1': 0.10, 's2': 0.05, 's3': 0.05}\n",
    "demoted_attrition = 0.50\n",
    "max_hiring = {\n",
    "    (1, 's1'): 500,\n",
    "    (1, 's2'): 800,\n",
    "    (1, 's3'): 500,\n",
    "    (2, 's1'): 500,\n",
    "    (2, 's2'): 800,\n",
    "    (2, 's3'): 500,\n",
    "    (3, 's1'): 500,\n",
    "    (3, 's2'): 800,\n",
    "    (3, 's3'): 500\n",
    "}\n",
    "max_overmanning = 150\n",
    "max_parttime = 50\n",
    "parttime_cap = 0.50\n",
    "max_train_unskilled = 200\n",
    "max_train_semiskilled = 0.25\n",
    "\n",
    "training_cost = {'s1': 400, 's2': 500}\n",
    "layoff_cost = {'s1': 200, 's2': 500, 's3': 500}\n",
    "parttime_cost = {'s1': 500, 's2': 400, 's3': 400}\n",
    "overmanning_cost = {'s1': 1500, 's2': 2000, 's3': 3000}"
   ]
  },
  {
   "cell_type": "code",
   "execution_count": null,
   "metadata": {},
   "outputs": [],
   "source": [
    "manpower = gp.Model('Manpower planning')\n",
    "\n",
    "## Decision variables: Define the decisions variable; all variables are non-negative integers\n",
    "hire = manpower.addVars(years, skills, ub=max_hiring,vtype=GRB.INTEGER, name=\"Hire\")\n",
    "part_time = manpower.addVars(years, skills, ub=max_parttime,\n",
    "                          name=\"Part_time\")\n",
    "workforce = manpower.addVars(years, skills,vtype=GRB.INTEGER, name=\"Available\")\n",
    "layoff = manpower.addVars(years, skills, vtype=GRB.INTEGER,name=\"Layoff\")\n",
    "excess = manpower.addVars(years, skills,vtype=GRB.INTEGER, name=\"Overmanned\")\n",
    "train = manpower.addVars(years, skills, skills, vtype=GRB.INTEGER, name=\"Train\")\n",
    "\n",
    "## Define constraints:\n",
    "#1. "
   ]
  },
  {
   "cell_type": "code",
   "execution_count": 21,
   "metadata": {},
   "outputs": [],
   "source": [
    "#1.1 & 1.2 Balance\n",
    "\n",
    "Balance = manpower.addConstrs(\n",
    "    (workforce[year, level] == (1-veteran_attrition[level])*(curr_workforce[level] if year == 1 else workforce[year-1, level])\n",
    "    + (1-rookie_attrition[level])*hire[year, level] + gp.quicksum((1- veteran_attrition[level])* train[year, level2, level]\n",
    "                                                        -train[year, level, level2] for level2 in skills if level2 < level)\n",
    "    + gp.quicksum((1- demoted_attrition)* train[year, level2, level] -train[year, level, level2] for level2 in skills if level2 > level)\n",
    "    - layoff[year, level] for year in years for level in skills), \"Balance\")"
   ]
  },
  {
   "cell_type": "code",
   "execution_count": 22,
   "metadata": {},
   "outputs": [],
   "source": [
    "#2.1 & 2.2  Unskilled training\n",
    "UnskilledTrain1 = manpower.addConstrs((train[year, 's1', 's2'] <= max_train_unskilled for year in years), \"Unskilled_training1\")\n",
    "UnskilledTrain2 = manpower.addConstrs((train[year, 's1', 's3'] == 0 for year in years), \"Unskilled_training2\")"
   ]
  },
  {
   "cell_type": "code",
   "execution_count": 23,
   "metadata": {},
   "outputs": [],
   "source": [
    "#3. Semi-skilled training\n",
    "\n",
    "SemiskilledTrain = manpower.addConstrs((train[year,'s2', 's3'] <= max_train_semiskilled * workforce[year,'s3'] for year in years), \"Semiskilled_training\")"
   ]
  },
  {
   "cell_type": "code",
   "execution_count": 24,
   "metadata": {},
   "outputs": [],
   "source": [
    "#4. Overmanning\n",
    "Overmanning = manpower.addConstrs((excess.sum(year, '*') <= max_overmanning for year in years), \"Overmanning\")"
   ]
  },
  {
   "cell_type": "code",
   "execution_count": 25,
   "metadata": {},
   "outputs": [],
   "source": [
    "#5. Demand\n",
    "Demand = manpower.addConstrs((workforce[year, level] ==\n",
    "     demand[year,level] + excess[year, level] + parttime_cap * part_time[year, level]\n",
    "                     for year in years for level in skills), \"Requirements\")"
   ]
  },
  {
   "cell_type": "code",
   "execution_count": 30,
   "metadata": {},
   "outputs": [],
   "source": [
    "#0.1 Objective Function: Minimize layoffs\n",
    "obj2 =  gp.quicksum((training_cost[level]*train[year, level, skills[skills.index(level)+1]] if level < 's3' else 0)\n",
    "                + layoff_cost[level]*layoff[year, level]\n",
    "                + parttime_cost[level]*part_time[year, level]\n",
    "                + overmanning_cost[level] * excess[year, level] for year in years for level in skills)\n",
    "manpower.setObjective(obj2, GRB.MINIMIZE)"
   ]
  },
  {
   "cell_type": "code",
   "execution_count": 31,
   "metadata": {},
   "outputs": [
    {
     "name": "stdout",
     "output_type": "stream",
     "text": [
      "Gurobi Optimizer version 12.0.0 build v12.0.0rc1 (win64 - Windows 11.0 (22631.2))\n",
      "\n",
      "CPU model: AMD Ryzen 7 5800H with Radeon Graphics, instruction set [SSE2|AVX|AVX2]\n",
      "Thread count: 8 physical cores, 16 logical processors, using up to 16 threads\n",
      "\n",
      "Optimize a model with 30 rows, 72 columns and 117 nonzeros\n",
      "Model fingerprint: 0x0bb17cd3\n",
      "Variable types: 9 continuous, 63 integer (0 binary)\n",
      "Coefficient statistics:\n",
      "  Matrix range     [3e-01, 1e+00]\n",
      "  Objective range  [2e+02, 3e+03]\n",
      "  Bounds range     [5e+01, 8e+02]\n",
      "  RHS range        [2e+02, 3e+03]\n",
      "\n",
      "MIP start from previous solve produced solution with objective 508700 (0.00s)\n",
      "Loaded MIP start from previous solve with objective 508700\n",
      "\n",
      "Presolve removed 16 rows and 25 columns\n",
      "Presolve time: 0.00s\n",
      "Presolved: 14 rows, 47 columns, 89 nonzeros\n",
      "Variable types: 0 continuous, 47 integer (0 binary)\n",
      "\n",
      "Root relaxation: objective 4.986773e+05, 11 iterations, 0.00 seconds (0.00 work units)\n",
      "\n",
      "    Nodes    |    Current Node    |     Objective Bounds      |     Work\n",
      " Expl Unexpl |  Obj  Depth IntInf | Incumbent    BestBd   Gap | It/Node Time\n",
      "\n",
      "     0     0 498677.285    0    8 508700.000 498677.285  1.97%     -    0s\n",
      "     0     0 507743.860    0    5 508700.000 507743.860  0.19%     -    0s\n",
      "     0     0 507950.000    0    3 508700.000 507950.000  0.15%     -    0s\n",
      "     0     0 508000.000    0   10 508700.000 508000.000  0.14%     -    0s\n",
      "     0     0 508228.852    0   15 508700.000 508228.852  0.09%     -    0s\n",
      "     0     0 508230.423    0   13 508700.000 508230.423  0.09%     -    0s\n",
      "     0     0 508253.130    0   13 508700.000 508253.130  0.09%     -    0s\n",
      "     0     0 508254.737    0   12 508700.000 508254.737  0.09%     -    0s\n",
      "     0     0 508261.299    0   12 508700.000 508261.299  0.09%     -    0s\n",
      "     0     0 508261.743    0   13 508700.000 508261.743  0.09%     -    0s\n",
      "     0     0 508280.000    0   13 508700.000 508280.000  0.08%     -    0s\n",
      "     0     0 508312.795    0   13 508700.000 508312.795  0.08%     -    0s\n",
      "     0     0 508312.857    0    3 508700.000 508312.857  0.08%     -    0s\n",
      "     0     0 508700.000    0    3 508700.000 508700.000  0.00%     -    0s\n",
      "\n",
      "Cutting planes:\n",
      "  Gomory: 2\n",
      "  MIR: 6\n",
      "  StrongCG: 2\n",
      "\n",
      "Explored 1 nodes (40 simplex iterations) in 0.06 seconds (0.01 work units)\n",
      "Thread count was 16 (of 16 available processors)\n",
      "\n",
      "Solution count 1: 508700 \n",
      "\n",
      "Optimal solution found (tolerance 1.00e-04)\n",
      "Best objective 5.087000000000e+05, best bound 5.087000000000e+05, gap 0.0000%\n"
     ]
    }
   ],
   "source": [
    "manpower.optimize()"
   ]
  },
  {
   "cell_type": "code",
   "execution_count": 28,
   "metadata": {},
   "outputs": [
    {
     "data": {
      "text/html": [
       "<div>\n",
       "<style scoped>\n",
       "    .dataframe tbody tr th:only-of-type {\n",
       "        vertical-align: middle;\n",
       "    }\n",
       "\n",
       "    .dataframe tbody tr th {\n",
       "        vertical-align: top;\n",
       "    }\n",
       "\n",
       "    .dataframe thead th {\n",
       "        text-align: right;\n",
       "    }\n",
       "</style>\n",
       "<table border=\"1\" class=\"dataframe\">\n",
       "  <thead>\n",
       "    <tr style=\"text-align: right;\">\n",
       "      <th></th>\n",
       "      <th>s1</th>\n",
       "      <th>s2</th>\n",
       "      <th>s3</th>\n",
       "    </tr>\n",
       "  </thead>\n",
       "  <tbody>\n",
       "    <tr>\n",
       "      <th>1</th>\n",
       "      <td>0.0</td>\n",
       "      <td>0.0</td>\n",
       "      <td>60.0</td>\n",
       "    </tr>\n",
       "    <tr>\n",
       "      <th>2</th>\n",
       "      <td>0.0</td>\n",
       "      <td>798.0</td>\n",
       "      <td>495.0</td>\n",
       "    </tr>\n",
       "    <tr>\n",
       "      <th>3</th>\n",
       "      <td>0.0</td>\n",
       "      <td>799.0</td>\n",
       "      <td>500.0</td>\n",
       "    </tr>\n",
       "  </tbody>\n",
       "</table>\n",
       "</div>"
      ],
      "text/plain": [
       "    s1     s2     s3\n",
       "1  0.0    0.0   60.0\n",
       "2  0.0  798.0  495.0\n",
       "3  0.0  799.0  500.0"
      ]
     },
     "execution_count": 28,
     "metadata": {},
     "output_type": "execute_result"
    }
   ],
   "source": [
    "import numpy as np\n",
    "rows = years.copy()\n",
    "columns = skills.copy()\n",
    "hire_plan = pd.DataFrame(columns=columns, index=rows, data=0.0)\n",
    "\n",
    "for year, level in hire.keys():\n",
    "    if (abs(hire[year, level].x) > 1e-6):\n",
    "        hire_plan.loc[year, level] = np.round(hire[year, level].x, 1)\n",
    "hire_plan"
   ]
  },
  {
   "cell_type": "code",
   "execution_count": 29,
   "metadata": {},
   "outputs": [
    {
     "data": {
      "text/html": [
       "<div>\n",
       "<style scoped>\n",
       "    .dataframe tbody tr th:only-of-type {\n",
       "        vertical-align: middle;\n",
       "    }\n",
       "\n",
       "    .dataframe tbody tr th {\n",
       "        vertical-align: top;\n",
       "    }\n",
       "\n",
       "    .dataframe thead th {\n",
       "        text-align: right;\n",
       "    }\n",
       "</style>\n",
       "<table border=\"1\" class=\"dataframe\">\n",
       "  <thead>\n",
       "    <tr style=\"text-align: right;\">\n",
       "      <th></th>\n",
       "      <th>s1 to s2</th>\n",
       "      <th>s1 to s3</th>\n",
       "      <th>s2 to s1</th>\n",
       "      <th>s2 to s3</th>\n",
       "      <th>s3 to s1</th>\n",
       "      <th>s3 to s2</th>\n",
       "    </tr>\n",
       "  </thead>\n",
       "  <tbody>\n",
       "    <tr>\n",
       "      <th>1</th>\n",
       "      <td>0.0</td>\n",
       "      <td>0.0</td>\n",
       "      <td>25.0</td>\n",
       "      <td>0.0</td>\n",
       "      <td>3.0</td>\n",
       "      <td>0.0</td>\n",
       "    </tr>\n",
       "    <tr>\n",
       "      <th>2</th>\n",
       "      <td>148.0</td>\n",
       "      <td>0.0</td>\n",
       "      <td>0.0</td>\n",
       "      <td>109.0</td>\n",
       "      <td>0.0</td>\n",
       "      <td>0.0</td>\n",
       "    </tr>\n",
       "    <tr>\n",
       "      <th>3</th>\n",
       "      <td>104.0</td>\n",
       "      <td>0.0</td>\n",
       "      <td>2.0</td>\n",
       "      <td>140.0</td>\n",
       "      <td>0.0</td>\n",
       "      <td>8.0</td>\n",
       "    </tr>\n",
       "  </tbody>\n",
       "</table>\n",
       "</div>"
      ],
      "text/plain": [
       "   s1 to s2  s1 to s3  s2 to s1  s2 to s3  s3 to s1  s3 to s2\n",
       "1       0.0       0.0      25.0       0.0       3.0       0.0\n",
       "2     148.0       0.0       0.0     109.0       0.0       0.0\n",
       "3     104.0       0.0       2.0     140.0       0.0       8.0"
      ]
     },
     "execution_count": 29,
     "metadata": {},
     "output_type": "execute_result"
    }
   ],
   "source": [
    "rows = years.copy()\n",
    "columns = ['{0} to {1}'.format(level1, level2) for level1 in skills for level2 in skills if level1 != level2]\n",
    "train_plan = pd.DataFrame(columns=columns, index=rows, data=0.0)\n",
    "\n",
    "for year, level1, level2 in train.keys():\n",
    "    col = '{0} to {1}'.format(level1, level2)\n",
    "    if (abs(train[year, level1, level2].x) > 1e-6):\n",
    "        train_plan.loc[year, col] = np.round(train[year, level1, level2].x, 1)\n",
    "train_plan"
   ]
  },
  {
   "cell_type": "code",
   "execution_count": 32,
   "metadata": {},
   "outputs": [
    {
     "data": {
      "text/html": [
       "<div>\n",
       "<style scoped>\n",
       "    .dataframe tbody tr th:only-of-type {\n",
       "        vertical-align: middle;\n",
       "    }\n",
       "\n",
       "    .dataframe tbody tr th {\n",
       "        vertical-align: top;\n",
       "    }\n",
       "\n",
       "    .dataframe thead th {\n",
       "        text-align: right;\n",
       "    }\n",
       "</style>\n",
       "<table border=\"1\" class=\"dataframe\">\n",
       "  <thead>\n",
       "    <tr style=\"text-align: right;\">\n",
       "      <th></th>\n",
       "      <th>s1</th>\n",
       "      <th>s2</th>\n",
       "      <th>s3</th>\n",
       "    </tr>\n",
       "  </thead>\n",
       "  <tbody>\n",
       "    <tr>\n",
       "      <th>1</th>\n",
       "      <td>814.0</td>\n",
       "      <td>0.0</td>\n",
       "      <td>0.0</td>\n",
       "    </tr>\n",
       "    <tr>\n",
       "      <th>2</th>\n",
       "      <td>252.0</td>\n",
       "      <td>0.0</td>\n",
       "      <td>0.0</td>\n",
       "    </tr>\n",
       "    <tr>\n",
       "      <th>3</th>\n",
       "      <td>347.0</td>\n",
       "      <td>0.0</td>\n",
       "      <td>0.0</td>\n",
       "    </tr>\n",
       "  </tbody>\n",
       "</table>\n",
       "</div>"
      ],
      "text/plain": [
       "      s1   s2   s3\n",
       "1  814.0  0.0  0.0\n",
       "2  252.0  0.0  0.0\n",
       "3  347.0  0.0  0.0"
      ]
     },
     "execution_count": 32,
     "metadata": {},
     "output_type": "execute_result"
    }
   ],
   "source": [
    "rows = years.copy()\n",
    "columns = skills.copy()\n",
    "layoff_plan = pd.DataFrame(columns=columns, index=rows, data=0.0)\n",
    "\n",
    "for year, level in layoff.keys():\n",
    "    if (abs(layoff[year, level].x) > 1e-6):\n",
    "        layoff_plan.loc[year, level] = np.round(layoff[year, level].x, 1)\n",
    "layoff_plan"
   ]
  },
  {
   "cell_type": "code",
   "execution_count": 33,
   "metadata": {},
   "outputs": [
    {
     "data": {
      "text/html": [
       "<div>\n",
       "<style scoped>\n",
       "    .dataframe tbody tr th:only-of-type {\n",
       "        vertical-align: middle;\n",
       "    }\n",
       "\n",
       "    .dataframe tbody tr th {\n",
       "        vertical-align: top;\n",
       "    }\n",
       "\n",
       "    .dataframe thead th {\n",
       "        text-align: right;\n",
       "    }\n",
       "</style>\n",
       "<table border=\"1\" class=\"dataframe\">\n",
       "  <thead>\n",
       "    <tr style=\"text-align: right;\">\n",
       "      <th></th>\n",
       "      <th>s1</th>\n",
       "      <th>s2</th>\n",
       "      <th>s3</th>\n",
       "    </tr>\n",
       "  </thead>\n",
       "  <tbody>\n",
       "    <tr>\n",
       "      <th>1</th>\n",
       "      <td>0.0</td>\n",
       "      <td>0.0</td>\n",
       "      <td>2.0</td>\n",
       "    </tr>\n",
       "    <tr>\n",
       "      <th>2</th>\n",
       "      <td>0.0</td>\n",
       "      <td>0.0</td>\n",
       "      <td>0.0</td>\n",
       "    </tr>\n",
       "    <tr>\n",
       "      <th>3</th>\n",
       "      <td>0.0</td>\n",
       "      <td>0.0</td>\n",
       "      <td>0.0</td>\n",
       "    </tr>\n",
       "  </tbody>\n",
       "</table>\n",
       "</div>"
      ],
      "text/plain": [
       "    s1   s2   s3\n",
       "1  0.0  0.0  2.0\n",
       "2  0.0  0.0  0.0\n",
       "3  0.0  0.0  0.0"
      ]
     },
     "execution_count": 33,
     "metadata": {},
     "output_type": "execute_result"
    }
   ],
   "source": [
    "rows = years.copy()\n",
    "columns = skills.copy()\n",
    "parttime_plan = pd.DataFrame(columns=columns, index=rows, data=0.0)\n",
    "\n",
    "for year, level in part_time.keys():\n",
    "    if (abs(part_time[year, level].x) > 1e-6):\n",
    "        parttime_plan.loc[year, level] = np.round(part_time[year, level].x, 1)\n",
    "parttime_plan"
   ]
  },
  {
   "cell_type": "code",
   "execution_count": 34,
   "metadata": {},
   "outputs": [
    {
     "data": {
      "text/html": [
       "<div>\n",
       "<style scoped>\n",
       "    .dataframe tbody tr th:only-of-type {\n",
       "        vertical-align: middle;\n",
       "    }\n",
       "\n",
       "    .dataframe tbody tr th {\n",
       "        vertical-align: top;\n",
       "    }\n",
       "\n",
       "    .dataframe thead th {\n",
       "        text-align: right;\n",
       "    }\n",
       "</style>\n",
       "<table border=\"1\" class=\"dataframe\">\n",
       "  <thead>\n",
       "    <tr style=\"text-align: right;\">\n",
       "      <th></th>\n",
       "      <th>s1</th>\n",
       "      <th>s2</th>\n",
       "      <th>s3</th>\n",
       "    </tr>\n",
       "  </thead>\n",
       "  <tbody>\n",
       "    <tr>\n",
       "      <th>1</th>\n",
       "      <td>0.0</td>\n",
       "      <td>0.0</td>\n",
       "      <td>0.0</td>\n",
       "    </tr>\n",
       "    <tr>\n",
       "      <th>2</th>\n",
       "      <td>0.0</td>\n",
       "      <td>0.0</td>\n",
       "      <td>0.0</td>\n",
       "    </tr>\n",
       "    <tr>\n",
       "      <th>3</th>\n",
       "      <td>0.0</td>\n",
       "      <td>0.0</td>\n",
       "      <td>0.0</td>\n",
       "    </tr>\n",
       "  </tbody>\n",
       "</table>\n",
       "</div>"
      ],
      "text/plain": [
       "    s1   s2   s3\n",
       "1  0.0  0.0  0.0\n",
       "2  0.0  0.0  0.0\n",
       "3  0.0  0.0  0.0"
      ]
     },
     "execution_count": 34,
     "metadata": {},
     "output_type": "execute_result"
    }
   ],
   "source": [
    "rows = years.copy()\n",
    "columns = skills.copy()\n",
    "excess_plan = pd.DataFrame(columns=columns, index=rows, data=0.0)\n",
    "\n",
    "for year, level in excess.keys():\n",
    "    if (abs(excess[year, level].x) > 1e-6):\n",
    "        excess_plan.loc[year, level] = np.round(excess[year, level].x, 1)\n",
    "excess_plan"
   ]
  },
  {
   "cell_type": "code",
   "execution_count": 35,
   "metadata": {},
   "outputs": [],
   "source": [
    "manpower.write(\"manpower-planning-output.sol\")"
   ]
  },
  {
   "cell_type": "code",
   "execution_count": null,
   "metadata": {},
   "outputs": [],
   "source": [
    "gp.setParam(\"Cuts\", 2)"
   ]
  }
 ],
 "metadata": {
  "kernelspec": {
   "display_name": "Python 3",
   "language": "python",
   "name": "python3"
  },
  "language_info": {
   "codemirror_mode": {
    "name": "ipython",
    "version": 3
   },
   "file_extension": ".py",
   "mimetype": "text/x-python",
   "name": "python",
   "nbconvert_exporter": "python",
   "pygments_lexer": "ipython3",
   "version": "3.12.0"
  }
 },
 "nbformat": 4,
 "nbformat_minor": 2
}
